{
 "metadata": {
  "name": "",
  "signature": "sha256:3647afed932afe64216ef157dd824ea90903abd61308f65ae2aca3a178493a80"
 },
 "nbformat": 3,
 "nbformat_minor": 0,
 "worksheets": []
}