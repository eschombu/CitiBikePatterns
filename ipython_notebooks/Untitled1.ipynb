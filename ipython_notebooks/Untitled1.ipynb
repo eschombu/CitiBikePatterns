{
 "metadata": {
  "name": "",
  "signature": "sha256:1e8d9294f8a6a271a372a51462eaf0637c69f366c2d0a40e7c9eac316bd33269"
 },
 "nbformat": 3,
 "nbformat_minor": 0,
 "worksheets": [
  {
   "cells": [
    {
     "cell_type": "code",
     "collapsed": false,
     "input": [
      "'''\n",
      "Color parts of a line based on its properties, e.g., slope.\n",
      "\n",
      "From http://wiki.scipy.org/Cookbook/Matplotlib/MulticoloredLine\n",
      "'''\n",
      "import numpy as np\n",
      "import matplotlib.pyplot as plt\n",
      "from matplotlib.collections import LineCollection\n",
      "from matplotlib.colors import ListedColormap, BoundaryNorm\n",
      "\n",
      "def multi_color_line(x, y, c, cmap=ListedColormap(['r', 'b']), boundaries=[0, 0.5, 1]):\n",
      "# Color parts of a line based on its properties, e.g., slope.\n",
      "# From http://wiki.scipy.org/Cookbook/Matplotlib/MulticoloredLine\n",
      "    norm = BoundaryNorm(boundaries, cmap.N)\n",
      "\n",
      "    # Create a set of line segments so that we can color them individually\n",
      "    # This creates the points as a N x 1 x 2 array so that we can stack points\n",
      "    # together easily to get the segments. The segments array for line collection\n",
      "    # needs to be numlines x points per line x 2 (x and y)\n",
      "    points = np.array([x, y]).T.reshape(-1, 1, 2)\n",
      "    segments = np.concatenate([points[:-1], points[1:]], axis=1)\n",
      "\n",
      "    # Create the line collection object, setting the colormapping parameters.\n",
      "    # Have to set the actual values used for colormapping separately.\n",
      "    lc = LineCollection(segments, cmap=cmap, norm=norm)\n",
      "    lc.set_array(c)\n",
      "    lc.set_linewidth(3)\n",
      "    plt.gca().add_collection(lc)\n",
      "    plt.show()"
     ],
     "language": "python",
     "metadata": {},
     "outputs": [],
     "prompt_number": 8
    },
    {
     "cell_type": "code",
     "collapsed": false,
     "input": [],
     "language": "python",
     "metadata": {},
     "outputs": []
    }
   ],
   "metadata": {}
  }
 ]
}