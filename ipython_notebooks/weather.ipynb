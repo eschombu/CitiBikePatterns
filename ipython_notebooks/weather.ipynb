{
 "metadata": {
  "name": "",
  "signature": "sha256:cf8cf444cb884fa73f59cac4a908c0bc5ad9c1f85cbc08a3b90d7d98eae13019"
 },
 "nbformat": 3,
 "nbformat_minor": 0,
 "worksheets": [
  {
   "cells": [
    {
     "cell_type": "code",
     "collapsed": false,
     "input": [
      "import numpy as np\n",
      "import pandas as pd\n",
      "import urllib2 as url\n",
      "import datetime, time"
     ],
     "language": "python",
     "metadata": {},
     "outputs": [],
     "prompt_number": 26
    },
    {
     "cell_type": "code",
     "collapsed": false,
     "input": [
      "def pull_daily_record(date, \\\n",
      "                      url_format=\"http://www.wunderground.com/history/airport/KNYC/YYYY/MM/DD/DailyHistory.html?format=1\", \\\n",
      "                      outfile_base=\"/home/vagrant/citibike/weather_data/knyc_\"):\n",
      "    url_path = url_format.replace(\"YYYY\", str(date.year)).replace(\"MM\", str(date.month)).replace(\"DD\", str(date.day))\n",
      "    url_string = url.urlopen(url_path).read()\n",
      "    url_string = url_string[1:]\n",
      "    url_string = url_string.replace(\"<br />\", \"\")\n",
      "    outfile = file(outfile_base + date.strftime(\"%Y-%m-%d\") + \".csv\", \"w\")\n",
      "    outfile.write(url_string)\n",
      "    outfile.close()"
     ],
     "language": "python",
     "metadata": {},
     "outputs": [],
     "prompt_number": 30
    },
    {
     "cell_type": "code",
     "collapsed": false,
     "input": [
      "pull_daily_record(datetime.date(2013,3,15))"
     ],
     "language": "python",
     "metadata": {},
     "outputs": [],
     "prompt_number": 31
    },
    {
     "cell_type": "code",
     "collapsed": false,
     "input": [
      "def datetimeIterator(from_date=None, to_date=None, delta=datetime.timedelta(days=1)):\n",
      "    from_date = from_date or datetime.now()\n",
      "    while to_date is None or from_date <= to_date:\n",
      "        yield from_date\n",
      "        from_date = from_date + delta\n",
      "    return"
     ],
     "language": "python",
     "metadata": {},
     "outputs": [],
     "prompt_number": 34
    },
    {
     "cell_type": "code",
     "collapsed": false,
     "input": [
      "a = datetime.date(2013, 3, 15)\n",
      "b = datetime.date(2013, 3, 24)"
     ],
     "language": "python",
     "metadata": {},
     "outputs": [],
     "prompt_number": 38
    },
    {
     "cell_type": "code",
     "collapsed": false,
     "input": [
      "datetimeIterator(a, b)"
     ],
     "language": "python",
     "metadata": {},
     "outputs": [
      {
       "metadata": {},
       "output_type": "pyout",
       "prompt_number": 43,
       "text": [
        "<generator object datetimeIterator at 0x7fb5bf3c6870>"
       ]
      }
     ],
     "prompt_number": 43
    },
    {
     "cell_type": "code",
     "collapsed": false,
     "input": [
      "datelist = [x for x in datetimeIterator(a,b)]"
     ],
     "language": "python",
     "metadata": {},
     "outputs": [],
     "prompt_number": 46
    },
    {
     "cell_type": "code",
     "collapsed": false,
     "input": [
      "datelist"
     ],
     "language": "python",
     "metadata": {},
     "outputs": [
      {
       "metadata": {},
       "output_type": "pyout",
       "prompt_number": 47,
       "text": [
        "[datetime.date(2013, 3, 15),\n",
        " datetime.date(2013, 3, 16),\n",
        " datetime.date(2013, 3, 17),\n",
        " datetime.date(2013, 3, 18),\n",
        " datetime.date(2013, 3, 19),\n",
        " datetime.date(2013, 3, 20),\n",
        " datetime.date(2013, 3, 21),\n",
        " datetime.date(2013, 3, 22),\n",
        " datetime.date(2013, 3, 23),\n",
        " datetime.date(2013, 3, 24)]"
       ]
      }
     ],
     "prompt_number": 47
    },
    {
     "cell_type": "code",
     "collapsed": false,
     "input": [
      "def pull_weather(start_date, end_date, interval=1):\n",
      "    datelist = [x for x in datetimeIterator(start_date, end_date, datetime.timedelta(days=interval))]\n",
      "    for day in datelist:\n",
      "        pull_daily_record(day)"
     ],
     "language": "python",
     "metadata": {},
     "outputs": [],
     "prompt_number": 48
    },
    {
     "cell_type": "code",
     "collapsed": false,
     "input": [
      "pull_weather(datetime.date(2013,7,1), datetime.date(2014,8,31))"
     ],
     "language": "python",
     "metadata": {},
     "outputs": [],
     "prompt_number": 49
    },
    {
     "cell_type": "code",
     "collapsed": false,
     "input": [
      "[\"/path/\" + x.strftime(\"%Y-%m-%d\") + \".csv\" for x in datetimeIterator(datetime.date(2013,7,1), datetime.date(2013,7,10))]"
     ],
     "language": "python",
     "metadata": {},
     "outputs": [
      {
       "metadata": {},
       "output_type": "pyout",
       "prompt_number": 53,
       "text": [
        "['/path/2013-07-01.csv',\n",
        " '/path/2013-07-02.csv',\n",
        " '/path/2013-07-03.csv',\n",
        " '/path/2013-07-04.csv',\n",
        " '/path/2013-07-05.csv',\n",
        " '/path/2013-07-06.csv',\n",
        " '/path/2013-07-07.csv',\n",
        " '/path/2013-07-08.csv',\n",
        " '/path/2013-07-09.csv',\n",
        " '/path/2013-07-10.csv']"
       ]
      }
     ],
     "prompt_number": 53
    },
    {
     "cell_type": "code",
     "collapsed": false,
     "input": [
      "filename = \"/home/vagrant/citibike/weather_data/knyc_\" + datetime.date(2013,7,1).strftime(\"%Y-%m-%d\") + \".csv\"\n",
      "filename"
     ],
     "language": "python",
     "metadata": {},
     "outputs": [
      {
       "metadata": {},
       "output_type": "pyout",
       "prompt_number": 54,
       "text": [
        "'/home/vagrant/citibike/weather_data/knyc_2013-07-01.csv'"
       ]
      }
     ],
     "prompt_number": 54
    },
    {
     "cell_type": "code",
     "collapsed": false,
     "input": [
      "pd.read_csv?"
     ],
     "language": "python",
     "metadata": {},
     "outputs": [],
     "prompt_number": 55
    },
    {
     "cell_type": "code",
     "collapsed": false,
     "input": [
      "df = pd.read_csv(filename)\n",
      "df.head()"
     ],
     "language": "python",
     "metadata": {},
     "outputs": [
      {
       "html": [
        "<div style=\"max-height:1000px;max-width:1500px;overflow:auto;\">\n",
        "<table border=\"1\" class=\"dataframe\">\n",
        "  <thead>\n",
        "    <tr style=\"text-align: right;\">\n",
        "      <th></th>\n",
        "      <th>TimeEDT</th>\n",
        "      <th>TemperatureF</th>\n",
        "      <th>Dew PointF</th>\n",
        "      <th>Humidity</th>\n",
        "      <th>Sea Level PressureIn</th>\n",
        "      <th>VisibilityMPH</th>\n",
        "      <th>Wind Direction</th>\n",
        "      <th>Wind SpeedMPH</th>\n",
        "      <th>Gust SpeedMPH</th>\n",
        "      <th>PrecipitationIn</th>\n",
        "      <th>Events</th>\n",
        "      <th>Conditions</th>\n",
        "      <th>WindDirDegrees</th>\n",
        "      <th>DateUTC</th>\n",
        "    </tr>\n",
        "  </thead>\n",
        "  <tbody>\n",
        "    <tr>\n",
        "      <th>0</th>\n",
        "      <td> 12:26 AM</td>\n",
        "      <td> 75.0</td>\n",
        "      <td> 70</td>\n",
        "      <td> 84</td>\n",
        "      <td> 29.94</td>\n",
        "      <td> 8</td>\n",
        "      <td> Variable</td>\n",
        "      <td>  3.5</td>\n",
        "      <td> -</td>\n",
        "      <td>NaN</td>\n",
        "      <td> NaN</td>\n",
        "      <td> Mostly Cloudy</td>\n",
        "      <td>   0</td>\n",
        "      <td> 2013-07-01 04:26:00</td>\n",
        "    </tr>\n",
        "    <tr>\n",
        "      <th>1</th>\n",
        "      <td> 12:51 AM</td>\n",
        "      <td> 75.0</td>\n",
        "      <td> 70</td>\n",
        "      <td> 84</td>\n",
        "      <td> 29.92</td>\n",
        "      <td> 8</td>\n",
        "      <td>     Calm</td>\n",
        "      <td> Calm</td>\n",
        "      <td> -</td>\n",
        "      <td>NaN</td>\n",
        "      <td> NaN</td>\n",
        "      <td>      Overcast</td>\n",
        "      <td>   0</td>\n",
        "      <td> 2013-07-01 04:51:00</td>\n",
        "    </tr>\n",
        "    <tr>\n",
        "      <th>2</th>\n",
        "      <td>  1:13 AM</td>\n",
        "      <td> 75.0</td>\n",
        "      <td> 70</td>\n",
        "      <td> 84</td>\n",
        "      <td> 29.95</td>\n",
        "      <td> 8</td>\n",
        "      <td>       SE</td>\n",
        "      <td>  4.6</td>\n",
        "      <td> -</td>\n",
        "      <td>NaN</td>\n",
        "      <td> NaN</td>\n",
        "      <td>      Overcast</td>\n",
        "      <td> 140</td>\n",
        "      <td> 2013-07-01 05:13:00</td>\n",
        "    </tr>\n",
        "    <tr>\n",
        "      <th>3</th>\n",
        "      <td>  1:51 AM</td>\n",
        "      <td> 75.0</td>\n",
        "      <td> 70</td>\n",
        "      <td> 84</td>\n",
        "      <td> 29.92</td>\n",
        "      <td> 8</td>\n",
        "      <td>     Calm</td>\n",
        "      <td> Calm</td>\n",
        "      <td> -</td>\n",
        "      <td>NaN</td>\n",
        "      <td> NaN</td>\n",
        "      <td>      Overcast</td>\n",
        "      <td>   0</td>\n",
        "      <td> 2013-07-01 05:51:00</td>\n",
        "    </tr>\n",
        "    <tr>\n",
        "      <th>4</th>\n",
        "      <td>  2:51 AM</td>\n",
        "      <td> 73.9</td>\n",
        "      <td> 70</td>\n",
        "      <td> 87</td>\n",
        "      <td> 29.91</td>\n",
        "      <td> 8</td>\n",
        "      <td> Variable</td>\n",
        "      <td>  3.5</td>\n",
        "      <td> -</td>\n",
        "      <td>NaN</td>\n",
        "      <td> NaN</td>\n",
        "      <td>      Overcast</td>\n",
        "      <td>   0</td>\n",
        "      <td> 2013-07-01 06:51:00</td>\n",
        "    </tr>\n",
        "  </tbody>\n",
        "</table>\n",
        "</div>"
       ],
       "metadata": {},
       "output_type": "pyout",
       "prompt_number": 57,
       "text": [
        "    TimeEDT  TemperatureF  Dew PointF  Humidity  Sea Level PressureIn  \\\n",
        "0  12:26 AM          75.0          70        84                 29.94   \n",
        "1  12:51 AM          75.0          70        84                 29.92   \n",
        "2   1:13 AM          75.0          70        84                 29.95   \n",
        "3   1:51 AM          75.0          70        84                 29.92   \n",
        "4   2:51 AM          73.9          70        87                 29.91   \n",
        "\n",
        "   VisibilityMPH Wind Direction Wind SpeedMPH Gust SpeedMPH  PrecipitationIn  \\\n",
        "0              8       Variable           3.5             -              NaN   \n",
        "1              8           Calm          Calm             -              NaN   \n",
        "2              8             SE           4.6             -              NaN   \n",
        "3              8           Calm          Calm             -              NaN   \n",
        "4              8       Variable           3.5             -              NaN   \n",
        "\n",
        "  Events     Conditions  WindDirDegrees              DateUTC  \n",
        "0    NaN  Mostly Cloudy               0  2013-07-01 04:26:00  \n",
        "1    NaN       Overcast               0  2013-07-01 04:51:00  \n",
        "2    NaN       Overcast             140  2013-07-01 05:13:00  \n",
        "3    NaN       Overcast               0  2013-07-01 05:51:00  \n",
        "4    NaN       Overcast               0  2013-07-01 06:51:00  "
       ]
      }
     ],
     "prompt_number": 57
    },
    {
     "cell_type": "code",
     "collapsed": false,
     "input": [
      "def build_weather_dataframe(start_date, end_date, filebase=\"/home/vagrant/citibike/weather_data/knyc_\"):\n",
      "    for day in datetimeIterator(start_date, end_date):\n",
      "        filename = filebase + day.strftime(\"%Y-%m-%d\") + \".csv\"\n",
      "        try:\n",
      "            day_df = pd.read_csv(filename)\n",
      "            day_df.DateUTC = day_df.DateUTC.apply(pd.datetools.parse)\n",
      "            day_df['Date'] = pd.Series(day, index=day_df.index)\n",
      "            \n",
      "            # Move the Date column to head of list\n",
      "            cols = list(day_df)\n",
      "            cols.insert(0, cols.pop(cols.index('Date')))\n",
      "            day_df = day_df.ix[:, cols]\n",
      "            \n",
      "            if day == start_date:\n",
      "                all_df = day_df\n",
      "            else:\n",
      "                all_df = pd.concat([all_df, day_df])\n",
      "        except:\n",
      "            continue\n",
      "    \n",
      "    all_df = all_df.sort(\"DateUTC\")\n",
      "    all_df = all_df.set_index(np.arange(all_df[\"DateUTC\"].count()))\n",
      "    return all_df"
     ],
     "language": "python",
     "metadata": {},
     "outputs": [],
     "prompt_number": 88
    },
    {
     "cell_type": "code",
     "collapsed": false,
     "input": [
      "df.to_hdf?"
     ],
     "language": "python",
     "metadata": {},
     "outputs": [],
     "prompt_number": 89
    },
    {
     "cell_type": "code",
     "collapsed": false,
     "input": [],
     "language": "python",
     "metadata": {},
     "outputs": []
    }
   ],
   "metadata": {}
  }
 ]
}