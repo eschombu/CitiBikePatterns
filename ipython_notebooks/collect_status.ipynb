{
 "metadata": {
  "name": "",
  "signature": "sha256:b810a6072f4681c7c64f72290afbbd477506e227fd21aca291c2f2a14ead9542"
 },
 "nbformat": 3,
 "nbformat_minor": 0,
 "worksheets": [
  {
   "cells": [
    {
     "cell_type": "code",
     "collapsed": false,
     "input": [
      "import numpy as np\n",
      "import pandas as pd\n",
      "import datetime, time, sched"
     ],
     "language": "python",
     "metadata": {},
     "outputs": [],
     "prompt_number": 114
    },
    {
     "cell_type": "code",
     "collapsed": false,
     "input": [
      "time.ctime()"
     ],
     "language": "python",
     "metadata": {},
     "outputs": [
      {
       "metadata": {},
       "output_type": "pyout",
       "prompt_number": 183,
       "text": [
        "'Tue Mar 24 20:54:18 2015'"
       ]
      }
     ],
     "prompt_number": 183
    },
    {
     "cell_type": "code",
     "collapsed": false,
     "input": [
      "(datetime.datetime(1970,1,2) - datetime.datetime(1970,1,1)).total_seconds()"
     ],
     "language": "python",
     "metadata": {},
     "outputs": [
      {
       "ename": "AttributeError",
       "evalue": "'datetime.datetime' object has no attribute 'total_seconds'",
       "output_type": "pyerr",
       "traceback": [
        "\u001b[1;31m---------------------------------------------------------------------------\u001b[0m\n\u001b[1;31mAttributeError\u001b[0m                            Traceback (most recent call last)",
        "\u001b[1;32m<ipython-input-162-3740f2dfbc44>\u001b[0m in \u001b[0;36m<module>\u001b[1;34m()\u001b[0m\n\u001b[1;32m----> 1\u001b[1;33m \u001b[0mdatetime\u001b[0m\u001b[1;33m.\u001b[0m\u001b[0mdatetime\u001b[0m\u001b[1;33m(\u001b[0m\u001b[1;36m1970\u001b[0m\u001b[1;33m,\u001b[0m\u001b[1;36m1\u001b[0m\u001b[1;33m,\u001b[0m\u001b[1;36m1\u001b[0m\u001b[1;33m)\u001b[0m\u001b[1;33m.\u001b[0m\u001b[0mtotal_seconds\u001b[0m\u001b[1;33m(\u001b[0m\u001b[1;33m)\u001b[0m\u001b[1;33m\u001b[0m\u001b[0m\n\u001b[0m",
        "\u001b[1;31mAttributeError\u001b[0m: 'datetime.datetime' object has no attribute 'total_seconds'"
       ]
      }
     ],
     "prompt_number": 162
    },
    {
     "cell_type": "code",
     "collapsed": false,
     "input": [
      "3600*24"
     ],
     "language": "python",
     "metadata": {},
     "outputs": [
      {
       "metadata": {},
       "output_type": "pyout",
       "prompt_number": 158,
       "text": [
        "86400"
       ]
      }
     ],
     "prompt_number": 158
    },
    {
     "cell_type": "code",
     "collapsed": false,
     "input": [
      "def pull_status_to_csv(status_url=\"http://www.citibikenyc.com/stations/json\", \\\n",
      "                       out_file_base=\"/home/vagrant/citibike/status_data/status_\"):\n",
      "    df = pd.read_json(status_url)\n",
      "    stat_time = df.executionTime[0];\n",
      "    df = pd.concat([pd.DataFrame.from_dict(item, orient='index').T for item in df.stationBeanList])\n",
      "    df = df.sort('id')[['id','stationName','stAddress1','totalDocks','availableBikes',\\\n",
      "        'availableDocks','statusValue','statusKey','testStation','latitude','longitude']]\n",
      "    df = df.set_index(np.arange(df['id'].count()))\n",
      "    outfilepath = out_file_base + stat_time.replace(' PM','PM').replace(' ','_').replace(':','.') + u'.csv'\n",
      "    df.to_csv(outfilepath)"
     ],
     "language": "python",
     "metadata": {},
     "outputs": [],
     "prompt_number": 144
    },
    {
     "cell_type": "code",
     "collapsed": false,
     "input": [
      "s = sched.scheduler(time.time, time.sleep)\n",
      "\n",
      "def periodic_status_pulls(start_time=time.time(), delay_sec=(5*60), stop_time=None):\n",
      "    if stop_time is None:\n",
      "        stop_time = start_time + 60*60*24*365 # 1 year\n",
      "    pull_times = np.arange(start_time, stop_time, delay_sec)\n",
      "    pull_times = pull_times[pull_times > time.time()]\n",
      "    print \"Starting Citi Bike status pulls every\", delay_sec, \"seconds at\", \\\n",
      "        time.ctime(pull_times[0]), \"until\", time.ctime(pull_times[-1])\n",
      "    for event in pull_times:\n",
      "        s.enterabs(event, 1, pull_status_to_csv, ())\n",
      "    s.run()"
     ],
     "language": "python",
     "metadata": {},
     "outputs": []
    },
    {
     "cell_type": "code",
     "collapsed": false,
     "input": [
      "start_time = (datetime.datetime(2015,4,24,16,46) - datetime.datetime(1970,1,1)).total_seconds()\n",
      "periodic_status_pulls(start_time, 10)"
     ],
     "language": "python",
     "metadata": {},
     "outputs": []
    },
    {
     "cell_type": "code",
     "collapsed": false,
     "input": [],
     "language": "python",
     "metadata": {},
     "outputs": []
    }
   ],
   "metadata": {}
  }
 ]
}