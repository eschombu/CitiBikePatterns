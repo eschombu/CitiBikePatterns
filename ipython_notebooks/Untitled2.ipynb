{
 "metadata": {
  "name": "",
  "signature": "sha256:3cd1161a1c0d767b702cc855ca6c51864667c22feff4086292f5c80141e00620"
 },
 "nbformat": 3,
 "nbformat_minor": 0,
 "worksheets": [
  {
   "cells": [
    {
     "cell_type": "code",
     "collapsed": false,
     "input": [
      "import numpy as np\n",
      "import matplotlib.pyplot as plt\n",
      "import matplotlib as mpl"
     ],
     "language": "python",
     "metadata": {},
     "outputs": [],
     "prompt_number": 51
    },
    {
     "cell_type": "code",
     "collapsed": false,
     "input": [
      "def create_circles(xy_tuples, radii=None, colors_or_cmapNormInd=None):\n",
      "    if radii is None:\n",
      "        radii = np.zeros(len(xy_tuples))\n",
      "    elif len(radii) == 1:\n",
      "        radii = np.ones(len(xy_tuples)) * radii\n",
      "    else:\n",
      "        radii = np.array(radii)\n",
      "    \n",
      "    # Convert color argument to list of matplotlib color specs\n",
      "    if (colors_or_cmapNormInd is None) or (len(colors_or_cmapNormInd) == 0):\n",
      "        colors = ['b' for i in xy_tuples]\n",
      "    elif len(colors_or_cmapNormInd) == 1:\n",
      "        colors = [colors for i in xy_tuples]\n",
      "    else:\n",
      "        colors = np.array(colors_or_cmapNormInd)\n",
      "        colors = mpl.cm.jet(np.int64(255*colors))\n",
      "\n",
      "    print colors\n",
      "    circles = []\n",
      "    for i in range(len(xy_tuples)):\n",
      "        circles.append( plt.Circle(xy_tuples[i], radii[i], color=colors[i]) )\n",
      "    \n",
      "    return circles"
     ],
     "language": "python",
     "metadata": {},
     "outputs": [],
     "prompt_number": 123
    },
    {
     "cell_type": "code",
     "collapsed": false,
     "input": [
      "circles = create_circles([(1,1),(3,5),(6,2)], radii=[2,1,1.5], colors_or_cmapNormInd=[.4,0.0,1.0])"
     ],
     "language": "python",
     "metadata": {},
     "outputs": [
      {
       "output_type": "stream",
       "stream": "stdout",
       "text": [
        "[[ 0.16129032  1.          0.80645161  1.        ]\n",
        " [ 0.          0.          0.5         1.        ]\n",
        " [ 0.5         0.          0.          1.        ]]\n"
       ]
      }
     ],
     "prompt_number": 124
    },
    {
     "cell_type": "code",
     "collapsed": false,
     "input": [
      "xlims = [np.array([circle.center[0] - circle.radius for circle in circles]).min(), \\\n",
      "    np.array([circle.center[0] + circle.radius for circle in circles]).max()]\n",
      "ylims = [np.array([circle.center[1] - circle.radius for circle in circles]).min(), \\\n",
      "    np.array([circle.center[1] + circle.radius for circle in circles]).max()]"
     ],
     "language": "python",
     "metadata": {},
     "outputs": [],
     "prompt_number": 68
    },
    {
     "cell_type": "code",
     "collapsed": false,
     "input": [
      "# Loop over circles with fig.gca().add_artist(circle_i) to draw circles on axes"
     ],
     "language": "python",
     "metadata": {},
     "outputs": [],
     "prompt_number": 69
    },
    {
     "cell_type": "code",
     "collapsed": false,
     "input": [
      "fig = plt.figure()\n",
      "plt.xlim(xlims)\n",
      "plt.ylim(ylims)\n",
      "for i in range(len(circles)):\n",
      "    fig.gca().add_artist(circles[i])"
     ],
     "language": "python",
     "metadata": {},
     "outputs": [
      {
       "metadata": {},
       "output_type": "display_data",
       "png": "[encoded data removed]",
       "text": [
        "<matplotlib.figure.Figure at 0x7f5c383d42d0>"
       ]
      }
     ],
     "prompt_number": 125
    },
    {
     "cell_type": "code",
     "collapsed": false,
     "input": [],
     "language": "python",
     "metadata": {},
     "outputs": []
    },
    {
     "cell_type": "code",
     "collapsed": false,
     "input": [],
     "language": "python",
     "metadata": {},
     "outputs": []
    },
    {
     "cell_type": "code",
     "collapsed": false,
     "input": [],
     "language": "python",
     "metadata": {},
     "outputs": []
    }
   ],
   "metadata": {}
  }
 ]
}